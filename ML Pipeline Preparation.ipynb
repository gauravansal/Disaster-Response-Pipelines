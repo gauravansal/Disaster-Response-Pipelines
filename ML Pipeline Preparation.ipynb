{
 "cells": [
  {
   "cell_type": "markdown",
   "metadata": {},
   "source": [
    "# ML Pipeline Preparation\n",
    "Follow the instructions below to help you create your ML pipeline.\n",
    "### 1. Import libraries and load data from database.\n",
    "- Import Python libraries\n",
    "- Load dataset from database with [`read_sql_table`](https://pandas.pydata.org/pandas-docs/stable/generated/pandas.read_sql_table.html)\n",
    "- Define feature and target variables X and Y"
   ]
  },
  {
   "cell_type": "code",
   "execution_count": 1,
   "metadata": {},
   "outputs": [
    {
     "name": "stdout",
     "output_type": "stream",
     "text": [
      "sklearn: 0.20.2\n"
     ]
    }
   ],
   "source": [
    "# Print scikit-learn version\n",
    "import sklearn\n",
    "print('sklearn: %s' % sklearn.__version__)"
   ]
  },
  {
   "cell_type": "code",
   "execution_count": 2,
   "metadata": {
    "scrolled": true
   },
   "outputs": [
    {
     "name": "stderr",
     "output_type": "stream",
     "text": [
      "[nltk_data] Downloading package punkt to\n",
      "[nltk_data]     C:\\Users\\125779\\AppData\\Roaming\\nltk_data...\n",
      "[nltk_data]   Package punkt is already up-to-date!\n",
      "[nltk_data] Downloading package wordnet to\n",
      "[nltk_data]     C:\\Users\\125779\\AppData\\Roaming\\nltk_data...\n",
      "[nltk_data]   Package wordnet is already up-to-date!\n",
      "[nltk_data] Downloading package averaged_perceptron_tagger to\n",
      "[nltk_data]     C:\\Users\\125779\\AppData\\Roaming\\nltk_data...\n",
      "[nltk_data]   Package averaged_perceptron_tagger is already up-to-\n",
      "[nltk_data]       date!\n",
      "[nltk_data] Downloading package stopwords to\n",
      "[nltk_data]     C:\\Users\\125779\\AppData\\Roaming\\nltk_data...\n",
      "[nltk_data]   Package stopwords is already up-to-date!\n"
     ]
    },
    {
     "data": {
      "text/plain": [
       "True"
      ]
     },
     "execution_count": 2,
     "metadata": {},
     "output_type": "execute_result"
    }
   ],
   "source": [
    "# import libraries\n",
    "import pandas as pd\n",
    "import numpy as np\n",
    "import os\n",
    "import pickle\n",
    "from sqlalchemy import create_engine\n",
    "import re\n",
    "import nltk\n",
    "from nltk.corpus import stopwords\n",
    "from nltk.tokenize import word_tokenize\n",
    "from nltk.stem import WordNetLemmatizer\n",
    "from nltk import pos_tag\n",
    "from sklearn.pipeline import Pipeline, FeatureUnion\n",
    "from sklearn.model_selection import train_test_split\n",
    "from sklearn.ensemble import RandomForestClassifier, GradientBoostingClassifier,AdaBoostClassifier\n",
    "from sklearn.multioutput import MultiOutputClassifier\n",
    "from sklearn.feature_extraction.text import CountVectorizer, TfidfTransformer\n",
    "from sklearn.base import BaseEstimator, TransformerMixin\n",
    "from sklearn.model_selection import GridSearchCV\n",
    "from sklearn.metrics import make_scorer, accuracy_score, f1_score, fbeta_score, classification_report\n",
    "from scipy.stats import hmean\n",
    "from scipy.stats.mstats import gmean\n",
    "import time\n",
    "import datetime\n",
    "\n",
    "# import warnings filter\n",
    "from warnings import simplefilter\n",
    "# ignore all future warnings\n",
    "simplefilter(action='ignore', category=FutureWarning)\n",
    "\n",
    "nltk.download(['punkt', 'wordnet', 'averaged_perceptron_tagger', 'stopwords'])"
   ]
  },
  {
   "cell_type": "code",
   "execution_count": 3,
   "metadata": {},
   "outputs": [],
   "source": [
    "# load data from database\n",
    "engine = create_engine('sqlite:///data/DisasterResponse.db')\n",
    "df = pd.read_sql_table('messages_categories',engine)\n",
    "X = df['message']\n",
    "Y = df.iloc[:,3:-2]"
   ]
  },
  {
   "cell_type": "code",
   "execution_count": 4,
   "metadata": {},
   "outputs": [
    {
     "name": "stdout",
     "output_type": "stream",
     "text": [
      "['related', 'request', 'offer', 'aid_related', 'medical_help', 'medical_products', 'search_and_rescue', 'security', 'military', 'water', 'food', 'shelter', 'clothing', 'money', 'missing_people', 'refugees', 'death', 'other_aid', 'infrastructure_related', 'transport', 'buildings', 'electricity', 'tools', 'hospitals', 'shops', 'aid_centers', 'other_infrastructure', 'weather_related', 'floods', 'storm', 'fire', 'earthquake', 'cold', 'other_weather', 'direct_report']\n"
     ]
    }
   ],
   "source": [
    "# Print category columns\n",
    "category_cols = df.columns[3:-2].tolist()\n",
    "print(category_cols)"
   ]
  },
  {
   "cell_type": "markdown",
   "metadata": {},
   "source": [
    "### 2. Write a tokenization function to process your text data"
   ]
  },
  {
   "cell_type": "code",
   "execution_count": 5,
   "metadata": {},
   "outputs": [],
   "source": [
    "# Get stop words in 'English' language\n",
    "stop_words = stopwords.words(\"english\")"
   ]
  },
  {
   "cell_type": "code",
   "execution_count": 6,
   "metadata": {},
   "outputs": [
    {
     "name": "stdout",
     "output_type": "stream",
     "text": [
      "Length of stop words in English language is 179\n"
     ]
    }
   ],
   "source": [
    "# Print length of stop words in English language\n",
    "print('Length of stop words in English language is {}'.format(len(stop_words)))"
   ]
  },
  {
   "cell_type": "code",
   "execution_count": 7,
   "metadata": {},
   "outputs": [
    {
     "name": "stdout",
     "output_type": "stream",
     "text": [
      "['i', 'me', 'my', 'myself', 'we', 'our', 'ours', 'ourselves', 'you', \"you're\", \"you've\", \"you'll\", \"you'd\", 'your', 'yours', 'yourself', 'yourselves', 'he', 'him', 'his', 'himself', 'she', \"she's\", 'her', 'hers', 'herself', 'it', \"it's\", 'its', 'itself', 'they', 'them', 'their', 'theirs', 'themselves', 'what', 'which', 'who', 'whom', 'this', 'that', \"that'll\", 'these', 'those', 'am', 'is', 'are', 'was', 'were', 'be', 'been', 'being', 'have', 'has', 'had', 'having', 'do', 'does', 'did', 'doing', 'a', 'an', 'the', 'and', 'but', 'if', 'or', 'because', 'as', 'until', 'while', 'of', 'at', 'by', 'for', 'with', 'about', 'against', 'between', 'into', 'through', 'during', 'before', 'after', 'above', 'below', 'to', 'from', 'up', 'down', 'in', 'out', 'on', 'off', 'over', 'under', 'again', 'further', 'then', 'once', 'here', 'there', 'when', 'where', 'why', 'how', 'all', 'any', 'both', 'each', 'few', 'more', 'most', 'other', 'some', 'such', 'no', 'nor', 'not', 'only', 'own', 'same', 'so', 'than', 'too', 'very', 's', 't', 'can', 'will', 'just', 'don', \"don't\", 'should', \"should've\", 'now', 'd', 'll', 'm', 'o', 're', 've', 'y', 'ain', 'aren', \"aren't\", 'couldn', \"couldn't\", 'didn', \"didn't\", 'doesn', \"doesn't\", 'hadn', \"hadn't\", 'hasn', \"hasn't\", 'haven', \"haven't\", 'isn', \"isn't\", 'ma', 'mightn', \"mightn't\", 'mustn', \"mustn't\", 'needn', \"needn't\", 'shan', \"shan't\", 'shouldn', \"shouldn't\", 'wasn', \"wasn't\", 'weren', \"weren't\", 'won', \"won't\", 'wouldn', \"wouldn't\"]\n"
     ]
    }
   ],
   "source": [
    "# Print stop words in English language\n",
    "print(stop_words)"
   ]
  },
  {
   "cell_type": "code",
   "execution_count": 8,
   "metadata": {},
   "outputs": [
    {
     "name": "stdout",
     "output_type": "stream",
     "text": [
      "<class 'pandas.core.series.Series'>\n"
     ]
    },
    {
     "data": {
      "text/plain": [
       "0    25364\n",
       "1      559\n",
       "2       78\n",
       "3       23\n",
       "4        2\n",
       "5        1\n",
       "6        1\n",
       "Name: message, dtype: int64"
      ]
     },
     "execution_count": 8,
     "metadata": {},
     "output_type": "execute_result"
    }
   ],
   "source": [
    "# Check if any message contain URL link\n",
    "url_regex = 'http[s]?://(?:[a-zA-Z]|[0-9]|[$-_@.&+]|[!*\\(\\),]|(?:%[0-9a-fA-F][0-9a-fA-F]))+'\n",
    "url_count = pd.Series([])\n",
    "url_count = X.apply(lambda message: len(re.findall(url_regex, message)))\n",
    "print(type(url_count))\n",
    "url_count.value_counts().sort_index()    "
   ]
  },
  {
   "cell_type": "markdown",
   "metadata": {},
   "source": [
    "From above, we can observe that most of the messages does not have URL links but there are few messages which do contain URL links. There is only 1 observation which contains 5 URL links."
   ]
  },
  {
   "cell_type": "code",
   "execution_count": 9,
   "metadata": {},
   "outputs": [],
   "source": [
    "# Define function tokenize to normalize, tokenize and lemmatize text string\n",
    "def tokenize(text):\n",
    "    \"\"\"Normalize, tokenize and lemmatize text string\n",
    "    \n",
    "    Args:\n",
    "    text: string, String containing message for processing\n",
    "       \n",
    "    Returns:\n",
    "    clean_tokens: list, List containing normalized and lemmatized word tokens\n",
    "    \"\"\"\n",
    "    \n",
    "    # Replace URL links in text string with string 'urlplaceholder'\n",
    "    url_regex = 'http[s]?://(?:[a-zA-Z]|[0-9]|[$-_@.&+]|[!*\\(\\),]|(?:%[0-9a-fA-F][0-9a-fA-F]))+'\n",
    "    detected_urls = re.findall(url_regex, text)\n",
    "    for url in detected_urls:\n",
    "        text = text.replace(url, \"urlplaceholder\")\n",
    "    \n",
    "    # Substitute characters in text string which match regular expression r'[^a-zA-Z0-9]'\n",
    "    # with single whitespace\n",
    "    text = re.sub(r'[^a-zA-Z0-9]', ' ', text)\n",
    "    \n",
    "    # Get word tokens from text string\n",
    "    tokens = word_tokenize(text)\n",
    "    \n",
    "    # Instantiate WordNetLemmatizer\n",
    "    lemmatizer = WordNetLemmatizer()\n",
    "\n",
    "    # Clean tokens\n",
    "    clean_tokens = []\n",
    "    for tok in tokens:\n",
    "        # convert token to lowercase as stop words are in lowercase\n",
    "        tok_low = tok.lower() \n",
    "        if tok_low not in stop_words:\n",
    "            # Lemmatize token and remove the leading and trailing spaces from lemmatized token\n",
    "            clean_tok = lemmatizer.lemmatize(tok_low).lower().strip()\n",
    "            clean_tokens.append(clean_tok)\n",
    "\n",
    "    return clean_tokens"
   ]
  },
  {
   "cell_type": "code",
   "execution_count": 10,
   "metadata": {},
   "outputs": [
    {
     "name": "stdout",
     "output_type": "stream",
     "text": [
      "Weather update - a cold front from Cuba that could pass over Haiti\n",
      "----------------------------------------------------------------------------------------------------\n",
      "['weather', 'update', 'cold', 'front', 'cuba', 'could', 'pas', 'haiti']\n",
      "****************************************************************************************************\n",
      "Is the Hurricane over or is it not over\n",
      "----------------------------------------------------------------------------------------------------\n",
      "['hurricane']\n",
      "****************************************************************************************************\n",
      "Looking for someone but no name\n",
      "----------------------------------------------------------------------------------------------------\n",
      "['looking', 'someone', 'name']\n",
      "****************************************************************************************************\n",
      "UN reports Leogane 80-90 destroyed. Only Hospital St. Croix functioning. Needs supplies desperately.\n",
      "----------------------------------------------------------------------------------------------------\n",
      "['un', 'report', 'leogane', '80', '90', 'destroyed', 'hospital', 'st', 'croix', 'functioning', 'need', 'supply', 'desperately']\n",
      "****************************************************************************************************\n",
      "says: west side of Haiti, rest of the country today and tonight\n",
      "----------------------------------------------------------------------------------------------------\n",
      "['say', 'west', 'side', 'haiti', 'rest', 'country', 'today', 'tonight']\n",
      "****************************************************************************************************\n"
     ]
    }
   ],
   "source": [
    "# Print first 5 messages and their respective tokens\n",
    "for idx in X.index.tolist()[0:5]:\n",
    "    print(X.loc[idx])\n",
    "    print('-'*100)\n",
    "    print(tokenize(X.loc[idx]))\n",
    "    print('*'*100)"
   ]
  },
  {
   "cell_type": "code",
   "execution_count": 11,
   "metadata": {},
   "outputs": [
    {
     "name": "stdout",
     "output_type": "stream",
     "text": [
      "Index of message with 5 URL links is 12598\n"
     ]
    },
    {
     "data": {
      "text/plain": [
       "'Hurricane Sandy Flight Cancellations: Thousands Of Flights Canceled Due. http://t.co/DMo0tbQE Most read by neighbors in #Roseville #Newarkhappy halloween 2012 (@Frankenstorm Apocalypse - Hurricane Sandy w/ 213 others) http://t.co/DTw9W3kKThe protective cover for the Enterprise failed last night. #NYC #sandy @Space Shuttle Enterprise http://t.co/5jexF6ZG@StormTeam8 @CTPostTrumbull Shelbourne rd Trumbull right next door. Never lost power http://t.co/NqMyZ1H8RT @nytimes: The New York Times is providing free, unlimited access to storm coverage on http://t.co/HkHYUWhW and its mobile apps today.'"
      ]
     },
     "execution_count": 11,
     "metadata": {},
     "output_type": "execute_result"
    }
   ],
   "source": [
    "# Print message with url count of 5\n",
    "print('Index of message with 5 URL links is {}'.format(url_count[url_count == 5].index[0]))\n",
    "X[url_count[url_count == 5].index[0]]"
   ]
  },
  {
   "cell_type": "code",
   "execution_count": 12,
   "metadata": {},
   "outputs": [
    {
     "name": "stdout",
     "output_type": "stream",
     "text": [
      "Hurricane Sandy Flight Cancellations: Thousands Of Flights Canceled Due. http://t.co/DMo0tbQE Most read by neighbors in #Roseville #Newarkhappy halloween 2012 (@Frankenstorm Apocalypse - Hurricane Sandy w/ 213 others) http://t.co/DTw9W3kKThe protective cover for the Enterprise failed last night. #NYC #sandy @Space Shuttle Enterprise http://t.co/5jexF6ZG@StormTeam8 @CTPostTrumbull Shelbourne rd Trumbull right next door. Never lost power http://t.co/NqMyZ1H8RT @nytimes: The New York Times is providing free, unlimited access to storm coverage on http://t.co/HkHYUWhW and its mobile apps today.\n",
      "----------------------------------------------------------------------------------------------------\n",
      "['hurricane', 'sandy', 'flight', 'cancellation', 'thousand', 'flight', 'canceled', 'due', 'urlplaceholder', 'read', 'neighbor', 'roseville', 'newarkhappy', 'halloween', '2012', 'frankenstorm', 'apocalypse', 'hurricane', 'sandy', 'w', '213', 'others', 'urlplaceholder', 'protective', 'cover', 'enterprise', 'failed', 'last', 'night', 'nyc', 'sandy', 'space', 'shuttle', 'enterprise', 'urlplaceholder', 'ctposttrumbull', 'shelbourne', 'rd', 'trumbull', 'right', 'next', 'door', 'never', 'lost', 'power', 'urlplaceholder', 'nytimes', 'new', 'york', 'time', 'providing', 'free', 'unlimited', 'access', 'storm', 'coverage', 'urlplaceholder', 'mobile', 'apps', 'today']\n"
     ]
    }
   ],
   "source": [
    "# Print message with index location 12598 and its respective tokens\n",
    "# Index location 12598 contain message with 5 URL links\n",
    "print(X.loc[12598])\n",
    "print('-'*100)\n",
    "print(tokenize(X.loc[12598]))"
   ]
  },
  {
   "cell_type": "markdown",
   "metadata": {},
   "source": [
    "### 3. Build a machine learning pipeline\n",
    "This machine pipeline should take in the `message` column as input and output classification results on the other 36 categories in the dataset. You may find the [MultiOutputClassifier](http://scikit-learn.org/stable/modules/generated/sklearn.multioutput.MultiOutputClassifier.html) helpful for predicting multiple target variables."
   ]
  },
  {
   "cell_type": "code",
   "execution_count": 13,
   "metadata": {},
   "outputs": [],
   "source": [
    "# Create a basic pipeline\n",
    "pipeline = Pipeline([('vect', CountVectorizer(tokenizer=tokenize)),\n",
    "                     ('tfidf', TfidfTransformer()),\n",
    "                     ('clf', MultiOutputClassifier(RandomForestClassifier()))\n",
    "                    ])"
   ]
  },
  {
   "cell_type": "markdown",
   "metadata": {},
   "source": [
    "### 4. Train pipeline\n",
    "- Split data into train and test sets\n",
    "- Train pipeline"
   ]
  },
  {
   "cell_type": "code",
   "execution_count": 14,
   "metadata": {},
   "outputs": [
    {
     "name": "stdout",
     "output_type": "stream",
     "text": [
      "--- Training time: 0:00:58 ---\n"
     ]
    }
   ],
   "source": [
    "# Split the data into train and test sets\n",
    "X_train, X_test, Y_train, Y_test = train_test_split(X, Y, test_size=0.25, random_state=42)\n",
    "#start_time = time.time()\n",
    "start_datetime = datetime.datetime.now().replace(microsecond=0)\n",
    "\n",
    "# Train basic pipeline\n",
    "pipeline.fit(X_train, Y_train)\n",
    "#print(\"--- %s seconds ---\" % (time.time() - start_time))\n",
    "print(\"--- Training time: %s ---\" % (datetime.datetime.now().replace(microsecond=0) - start_datetime))"
   ]
  },
  {
   "cell_type": "markdown",
   "metadata": {},
   "source": [
    "### 5. Test your model\n",
    "Report the f1 score, precision and recall for each output category of the dataset. You can do this by iterating through the columns and calling sklearn's `classification_report` on each."
   ]
  },
  {
   "cell_type": "code",
   "execution_count": 15,
   "metadata": {},
   "outputs": [
    {
     "name": "stdout",
     "output_type": "stream",
     "text": [
      "--- Predicting time: 0:00:05 ---\n"
     ]
    }
   ],
   "source": [
    "# Predict categories from test set\n",
    "start_datetime = datetime.datetime.now().replace(microsecond=0)\n",
    "Y_pred = pipeline.predict(X_test)\n",
    "print(\"--- Predicting time: %s ---\" % (datetime.datetime.now().replace(microsecond=0) - start_datetime))"
   ]
  },
  {
   "cell_type": "code",
   "execution_count": 16,
   "metadata": {},
   "outputs": [
    {
     "name": "stdout",
     "output_type": "stream",
     "text": [
      "Y_test has type: <class 'pandas.core.frame.DataFrame'> and its shape is: (6507, 35)\n",
      "Y_pred has type: <class 'numpy.ndarray'> and its shape is: (6507, 35)\n"
     ]
    }
   ],
   "source": [
    "# Print type and shape of Y_test and Y_pred\n",
    "print('Y_test has type: {} and its shape is: {}'.format(type(Y_test), Y_test.shape))\n",
    "print('Y_pred has type: {} and its shape is: {}'.format(type(Y_pred), Y_pred.shape))"
   ]
  },
  {
   "cell_type": "code",
   "execution_count": 17,
   "metadata": {},
   "outputs": [
    {
     "data": {
      "text/html": [
       "<div>\n",
       "<style scoped>\n",
       "    .dataframe tbody tr th:only-of-type {\n",
       "        vertical-align: middle;\n",
       "    }\n",
       "\n",
       "    .dataframe tbody tr th {\n",
       "        vertical-align: top;\n",
       "    }\n",
       "\n",
       "    .dataframe thead th {\n",
       "        text-align: right;\n",
       "    }\n",
       "</style>\n",
       "<table border=\"1\" class=\"dataframe\">\n",
       "  <thead>\n",
       "    <tr style=\"text-align: right;\">\n",
       "      <th></th>\n",
       "      <th>related</th>\n",
       "      <th>request</th>\n",
       "      <th>offer</th>\n",
       "      <th>aid_related</th>\n",
       "      <th>medical_help</th>\n",
       "      <th>medical_products</th>\n",
       "      <th>search_and_rescue</th>\n",
       "      <th>security</th>\n",
       "      <th>military</th>\n",
       "      <th>water</th>\n",
       "      <th>...</th>\n",
       "      <th>aid_centers</th>\n",
       "      <th>other_infrastructure</th>\n",
       "      <th>weather_related</th>\n",
       "      <th>floods</th>\n",
       "      <th>storm</th>\n",
       "      <th>fire</th>\n",
       "      <th>earthquake</th>\n",
       "      <th>cold</th>\n",
       "      <th>other_weather</th>\n",
       "      <th>direct_report</th>\n",
       "    </tr>\n",
       "  </thead>\n",
       "  <tbody>\n",
       "    <tr>\n",
       "      <th>20861</th>\n",
       "      <td>0</td>\n",
       "      <td>0</td>\n",
       "      <td>0</td>\n",
       "      <td>0</td>\n",
       "      <td>0</td>\n",
       "      <td>0</td>\n",
       "      <td>0</td>\n",
       "      <td>0</td>\n",
       "      <td>0</td>\n",
       "      <td>0</td>\n",
       "      <td>...</td>\n",
       "      <td>0</td>\n",
       "      <td>0</td>\n",
       "      <td>0</td>\n",
       "      <td>0</td>\n",
       "      <td>0</td>\n",
       "      <td>0</td>\n",
       "      <td>0</td>\n",
       "      <td>0</td>\n",
       "      <td>0</td>\n",
       "      <td>0</td>\n",
       "    </tr>\n",
       "    <tr>\n",
       "      <th>12293</th>\n",
       "      <td>1</td>\n",
       "      <td>0</td>\n",
       "      <td>0</td>\n",
       "      <td>1</td>\n",
       "      <td>0</td>\n",
       "      <td>0</td>\n",
       "      <td>0</td>\n",
       "      <td>0</td>\n",
       "      <td>0</td>\n",
       "      <td>1</td>\n",
       "      <td>...</td>\n",
       "      <td>0</td>\n",
       "      <td>0</td>\n",
       "      <td>1</td>\n",
       "      <td>0</td>\n",
       "      <td>1</td>\n",
       "      <td>0</td>\n",
       "      <td>0</td>\n",
       "      <td>0</td>\n",
       "      <td>0</td>\n",
       "      <td>0</td>\n",
       "    </tr>\n",
       "    <tr>\n",
       "      <th>25482</th>\n",
       "      <td>0</td>\n",
       "      <td>0</td>\n",
       "      <td>0</td>\n",
       "      <td>0</td>\n",
       "      <td>0</td>\n",
       "      <td>0</td>\n",
       "      <td>0</td>\n",
       "      <td>0</td>\n",
       "      <td>0</td>\n",
       "      <td>0</td>\n",
       "      <td>...</td>\n",
       "      <td>0</td>\n",
       "      <td>0</td>\n",
       "      <td>0</td>\n",
       "      <td>0</td>\n",
       "      <td>0</td>\n",
       "      <td>0</td>\n",
       "      <td>0</td>\n",
       "      <td>0</td>\n",
       "      <td>0</td>\n",
       "      <td>0</td>\n",
       "    </tr>\n",
       "    <tr>\n",
       "      <th>13741</th>\n",
       "      <td>1</td>\n",
       "      <td>0</td>\n",
       "      <td>0</td>\n",
       "      <td>0</td>\n",
       "      <td>0</td>\n",
       "      <td>0</td>\n",
       "      <td>0</td>\n",
       "      <td>0</td>\n",
       "      <td>0</td>\n",
       "      <td>0</td>\n",
       "      <td>...</td>\n",
       "      <td>0</td>\n",
       "      <td>0</td>\n",
       "      <td>1</td>\n",
       "      <td>0</td>\n",
       "      <td>0</td>\n",
       "      <td>0</td>\n",
       "      <td>1</td>\n",
       "      <td>0</td>\n",
       "      <td>0</td>\n",
       "      <td>0</td>\n",
       "    </tr>\n",
       "    <tr>\n",
       "      <th>14548</th>\n",
       "      <td>1</td>\n",
       "      <td>0</td>\n",
       "      <td>0</td>\n",
       "      <td>1</td>\n",
       "      <td>1</td>\n",
       "      <td>1</td>\n",
       "      <td>1</td>\n",
       "      <td>0</td>\n",
       "      <td>1</td>\n",
       "      <td>0</td>\n",
       "      <td>...</td>\n",
       "      <td>0</td>\n",
       "      <td>1</td>\n",
       "      <td>1</td>\n",
       "      <td>1</td>\n",
       "      <td>1</td>\n",
       "      <td>1</td>\n",
       "      <td>1</td>\n",
       "      <td>1</td>\n",
       "      <td>1</td>\n",
       "      <td>0</td>\n",
       "    </tr>\n",
       "  </tbody>\n",
       "</table>\n",
       "<p>5 rows × 35 columns</p>\n",
       "</div>"
      ],
      "text/plain": [
       "       related  request  offer  aid_related  medical_help  medical_products  \\\n",
       "20861        0        0      0            0             0                 0   \n",
       "12293        1        0      0            1             0                 0   \n",
       "25482        0        0      0            0             0                 0   \n",
       "13741        1        0      0            0             0                 0   \n",
       "14548        1        0      0            1             1                 1   \n",
       "\n",
       "       search_and_rescue  security  military  water  ...  aid_centers  \\\n",
       "20861                  0         0         0      0  ...            0   \n",
       "12293                  0         0         0      1  ...            0   \n",
       "25482                  0         0         0      0  ...            0   \n",
       "13741                  0         0         0      0  ...            0   \n",
       "14548                  1         0         1      0  ...            0   \n",
       "\n",
       "       other_infrastructure  weather_related  floods  storm  fire  earthquake  \\\n",
       "20861                     0                0       0      0     0           0   \n",
       "12293                     0                1       0      1     0           0   \n",
       "25482                     0                0       0      0     0           0   \n",
       "13741                     0                1       0      0     0           1   \n",
       "14548                     1                1       1      1     1           1   \n",
       "\n",
       "       cold  other_weather  direct_report  \n",
       "20861     0              0              0  \n",
       "12293     0              0              0  \n",
       "25482     0              0              0  \n",
       "13741     0              0              0  \n",
       "14548     1              1              0  \n",
       "\n",
       "[5 rows x 35 columns]"
      ]
     },
     "execution_count": 17,
     "metadata": {},
     "output_type": "execute_result"
    }
   ],
   "source": [
    "# Print first 5 rows of Y_test dataframe\n",
    "Y_test.head()"
   ]
  },
  {
   "cell_type": "code",
   "execution_count": 18,
   "metadata": {},
   "outputs": [
    {
     "data": {
      "text/plain": [
       "array([[1, 0, 0, 1, 0, 0, 0, 0, 0, 0, 0, 0, 0, 0, 0, 0, 0, 0, 0, 0, 0, 0,\n",
       "        0, 0, 0, 0, 0, 0, 0, 0, 0, 0, 0, 0, 0],\n",
       "       [1, 0, 0, 0, 0, 0, 0, 0, 0, 0, 0, 0, 0, 0, 0, 0, 0, 0, 0, 0, 0, 0,\n",
       "        0, 0, 0, 0, 0, 1, 0, 1, 0, 0, 0, 0, 0],\n",
       "       [1, 0, 0, 1, 0, 0, 0, 0, 0, 0, 0, 0, 0, 0, 0, 0, 0, 0, 0, 0, 0, 0,\n",
       "        0, 0, 0, 0, 0, 0, 0, 0, 0, 0, 0, 0, 0],\n",
       "       [1, 0, 0, 0, 0, 0, 0, 0, 0, 0, 0, 0, 0, 0, 0, 0, 0, 0, 0, 0, 0, 0,\n",
       "        0, 0, 0, 0, 0, 1, 0, 0, 0, 1, 0, 0, 0],\n",
       "       [1, 0, 0, 1, 0, 0, 0, 0, 0, 0, 0, 0, 0, 0, 0, 0, 0, 0, 0, 0, 0, 0,\n",
       "        0, 0, 0, 0, 0, 1, 1, 1, 0, 0, 0, 0, 0]], dtype=int64)"
      ]
     },
     "execution_count": 18,
     "metadata": {},
     "output_type": "execute_result"
    }
   ],
   "source": [
    "# Print first 5 rows in Y_pred ndarray\n",
    "Y_pred[0:5]"
   ]
  },
  {
   "cell_type": "code",
   "execution_count": 19,
   "metadata": {},
   "outputs": [
    {
     "data": {
      "text/plain": [
       "related                   0.806977\n",
       "request                   0.883049\n",
       "offer                     0.996004\n",
       "aid_related               0.747195\n",
       "medical_help              0.919010\n",
       "medical_products          0.951130\n",
       "search_and_rescue         0.970340\n",
       "security                  0.979560\n",
       "military                  0.966190\n",
       "water                     0.951591\n",
       "food                      0.929614\n",
       "shelter                   0.933917\n",
       "clothing                  0.986169\n",
       "money                     0.974950\n",
       "missing_people            0.989550\n",
       "refugees                  0.969725\n",
       "death                     0.961426\n",
       "other_aid                 0.871830\n",
       "infrastructure_related    0.934378\n",
       "transport                 0.957277\n",
       "buildings                 0.951437\n",
       "electricity               0.980944\n",
       "tools                     0.993853\n",
       "hospitals                 0.989089\n",
       "shops                     0.994621\n",
       "aid_centers               0.988935\n",
       "other_infrastructure      0.956047\n",
       "weather_related           0.862609\n",
       "floods                    0.948363\n",
       "storm                     0.932688\n",
       "fire                      0.988781\n",
       "earthquake                0.963731\n",
       "cold                      0.979253\n",
       "other_weather             0.949593\n",
       "direct_report             0.840633\n",
       "dtype: float64"
      ]
     },
     "execution_count": 19,
     "metadata": {},
     "output_type": "execute_result"
    }
   ],
   "source": [
    "# Print accuracy of basic pipeline for each of individual category \n",
    "accuracy = (Y_pred == Y_test).mean()\n",
    "accuracy"
   ]
  },
  {
   "cell_type": "code",
   "execution_count": 20,
   "metadata": {},
   "outputs": [
    {
     "name": "stdout",
     "output_type": "stream",
     "text": [
      "Overall accuracy of basic pipeline is: 94.29%\n"
     ]
    }
   ],
   "source": [
    "# Print overall accuracy of basic pipeline\n",
    "overall_accuracy = (Y_pred == Y_test).mean().mean()\n",
    "print('Overall accuracy of basic pipeline is: {}%'.format(round(overall_accuracy*100, 2)))"
   ]
  },
  {
   "cell_type": "code",
   "execution_count": 23,
   "metadata": {},
   "outputs": [],
   "source": [
    "# Define function to calculate the multi-label f-score\n",
    "def multi_label_fscore(y_true, y_pred, beta=1):\n",
    "    \"\"\"Calculate individual weighted average fbeta score of each category and\n",
    "    geometric mean of weighted average fbeta score of each category\n",
    "    \n",
    "    Args:\n",
    "    y_true: dataframe, dataframe containing true labels i.e. Y_test\n",
    "    y_pred: ndarray, ndarray containing predicted labels i.e. Y_pred\n",
    "    beta: numeric, beta value\n",
    "       \n",
    "    Returns:\n",
    "    f_score_gmean: float, geometric mean of fbeta score for each category\n",
    "    \"\"\"\n",
    "    \n",
    "    b = beta\n",
    "    f_score_dict = {}\n",
    "    score_list = []\n",
    "    \n",
    "    # Create dataframe y_pred_df from ndarray y_pred \n",
    "    y_pred_df = pd.DataFrame(y_pred, columns=y_true.columns)\n",
    "\n",
    "    for column in y_true.columns:\n",
    "        score = round(fbeta_score(y_true[column], y_pred_df[column], beta, average='weighted'),4)\n",
    "        score_list.append(score)\n",
    "    f_score_dict['category'] = y_true.columns.tolist()\n",
    "    f_score_dict['f_score'] = score_list\n",
    "\n",
    "   \n",
    "    f_score_df = pd.DataFrame.from_dict(f_score_dict)\n",
    "\n",
    "    f_score_gmean = gmean(f_score_df['f_score'])\n",
    "\n",
    "    return f_score_gmean"
   ]
  },
  {
   "cell_type": "code",
   "execution_count": 24,
   "metadata": {},
   "outputs": [
    {
     "name": "stdout",
     "output_type": "stream",
     "text": [
      "Overall F_beta_score is: 92.84%\n"
     ]
    },
    {
     "name": "stderr",
     "output_type": "stream",
     "text": [
      "C:\\Users\\125779\\AppData\\Local\\Continuum\\anaconda3\\envs\\dsnd\\lib\\site-packages\\sklearn\\metrics\\classification.py:1143: UndefinedMetricWarning: F-score is ill-defined and being set to 0.0 in labels with no predicted samples.\n",
      "  'precision', 'predicted', average, warn_for)\n"
     ]
    }
   ],
   "source": [
    "# Print overall f_score of basic pipeline\n",
    "multi_f_gmean = multi_label_fscore(Y_test,Y_pred, beta = 1)\n",
    "print('Overall F_beta_score is: {0:.2f}%'.format(multi_f_gmean*100))"
   ]
  },
  {
   "cell_type": "code",
   "execution_count": 25,
   "metadata": {},
   "outputs": [
    {
     "name": "stderr",
     "output_type": "stream",
     "text": [
      "C:\\Users\\125779\\AppData\\Local\\Continuum\\anaconda3\\envs\\dsnd\\lib\\site-packages\\sklearn\\metrics\\classification.py:1143: UndefinedMetricWarning: Precision and F-score are ill-defined and being set to 0.0 in labels with no predicted samples.\n",
      "  'precision', 'predicted', average, warn_for)\n"
     ]
    },
    {
     "name": "stdout",
     "output_type": "stream",
     "text": [
      "------------------------------------------------------\n",
      "\n",
      "CATEGORY: related\n",
      "\n",
      "              precision    recall  f1-score   support\n",
      "\n",
      "           0       0.64      0.46      0.54      1569\n",
      "           1       0.84      0.92      0.88      4938\n",
      "\n",
      "   micro avg       0.81      0.81      0.81      6507\n",
      "   macro avg       0.74      0.69      0.71      6507\n",
      "weighted avg       0.79      0.81      0.80      6507\n",
      "\n",
      "------------------------------------------------------\n",
      "\n",
      "CATEGORY: request\n",
      "\n",
      "              precision    recall  f1-score   support\n",
      "\n",
      "           0       0.89      0.98      0.93      5403\n",
      "           1       0.78      0.43      0.56      1104\n",
      "\n",
      "   micro avg       0.88      0.88      0.88      6507\n",
      "   macro avg       0.84      0.70      0.74      6507\n",
      "weighted avg       0.87      0.88      0.87      6507\n",
      "\n",
      "------------------------------------------------------\n",
      "\n",
      "CATEGORY: offer\n",
      "\n",
      "              precision    recall  f1-score   support\n",
      "\n",
      "           0       1.00      1.00      1.00      6481\n",
      "           1       0.00      0.00      0.00        26\n",
      "\n",
      "   micro avg       1.00      1.00      1.00      6507\n",
      "   macro avg       0.50      0.50      0.50      6507\n",
      "weighted avg       0.99      1.00      0.99      6507\n",
      "\n",
      "------------------------------------------------------\n",
      "\n",
      "CATEGORY: aid_related\n",
      "\n",
      "              precision    recall  f1-score   support\n",
      "\n",
      "           0       0.75      0.86      0.80      3793\n",
      "           1       0.75      0.59      0.66      2714\n",
      "\n",
      "   micro avg       0.75      0.75      0.75      6507\n",
      "   macro avg       0.75      0.73      0.73      6507\n",
      "weighted avg       0.75      0.75      0.74      6507\n",
      "\n",
      "------------------------------------------------------\n",
      "\n",
      "CATEGORY: medical_help\n",
      "\n",
      "              precision    recall  f1-score   support\n",
      "\n",
      "           0       0.92      1.00      0.96      5965\n",
      "           1       0.63      0.07      0.12       542\n",
      "\n",
      "   micro avg       0.92      0.92      0.92      6507\n",
      "   macro avg       0.78      0.53      0.54      6507\n",
      "weighted avg       0.90      0.92      0.89      6507\n",
      "\n",
      "------------------------------------------------------\n",
      "\n",
      "CATEGORY: medical_products\n",
      "\n",
      "              precision    recall  f1-score   support\n",
      "\n",
      "           0       0.95      1.00      0.97      6160\n",
      "           1       0.78      0.12      0.20       347\n",
      "\n",
      "   micro avg       0.95      0.95      0.95      6507\n",
      "   macro avg       0.87      0.56      0.59      6507\n",
      "weighted avg       0.94      0.95      0.93      6507\n",
      "\n",
      "------------------------------------------------------\n",
      "\n",
      "CATEGORY: search_and_rescue\n",
      "\n",
      "              precision    recall  f1-score   support\n",
      "\n",
      "           0       0.97      1.00      0.98      6315\n",
      "           1       0.46      0.03      0.06       192\n",
      "\n",
      "   micro avg       0.97      0.97      0.97      6507\n",
      "   macro avg       0.72      0.52      0.52      6507\n",
      "weighted avg       0.96      0.97      0.96      6507\n",
      "\n",
      "------------------------------------------------------\n",
      "\n",
      "CATEGORY: security\n",
      "\n",
      "              precision    recall  f1-score   support\n",
      "\n",
      "           0       0.98      1.00      0.99      6374\n",
      "           1       0.50      0.01      0.01       133\n",
      "\n",
      "   micro avg       0.98      0.98      0.98      6507\n",
      "   macro avg       0.74      0.50      0.50      6507\n",
      "weighted avg       0.97      0.98      0.97      6507\n",
      "\n",
      "------------------------------------------------------\n",
      "\n",
      "CATEGORY: military\n",
      "\n",
      "              precision    recall  f1-score   support\n",
      "\n",
      "           0       0.97      1.00      0.98      6282\n",
      "           1       0.56      0.10      0.17       225\n",
      "\n",
      "   micro avg       0.97      0.97      0.97      6507\n",
      "   macro avg       0.77      0.55      0.57      6507\n",
      "weighted avg       0.95      0.97      0.95      6507\n",
      "\n",
      "------------------------------------------------------\n",
      "\n",
      "CATEGORY: water\n",
      "\n",
      "              precision    recall  f1-score   support\n",
      "\n",
      "           0       0.95      1.00      0.97      6077\n",
      "           1       0.84      0.33      0.48       430\n",
      "\n",
      "   micro avg       0.95      0.95      0.95      6507\n",
      "   macro avg       0.90      0.66      0.73      6507\n",
      "weighted avg       0.95      0.95      0.94      6507\n",
      "\n",
      "------------------------------------------------------\n",
      "\n",
      "CATEGORY: food\n",
      "\n",
      "              precision    recall  f1-score   support\n",
      "\n",
      "           0       0.93      0.99      0.96      5776\n",
      "           1       0.85      0.46      0.59       731\n",
      "\n",
      "   micro avg       0.93      0.93      0.93      6507\n",
      "   macro avg       0.89      0.72      0.78      6507\n",
      "weighted avg       0.93      0.93      0.92      6507\n",
      "\n",
      "------------------------------------------------------\n",
      "\n",
      "CATEGORY: shelter\n",
      "\n",
      "              precision    recall  f1-score   support\n",
      "\n",
      "           0       0.94      0.99      0.96      5909\n",
      "           1       0.82      0.36      0.50       598\n",
      "\n",
      "   micro avg       0.93      0.93      0.93      6507\n",
      "   macro avg       0.88      0.68      0.73      6507\n",
      "weighted avg       0.93      0.93      0.92      6507\n",
      "\n",
      "------------------------------------------------------\n",
      "\n",
      "CATEGORY: clothing\n",
      "\n",
      "              precision    recall  f1-score   support\n",
      "\n",
      "           0       0.99      1.00      0.99      6406\n",
      "           1       0.76      0.16      0.26       101\n",
      "\n",
      "   micro avg       0.99      0.99      0.99      6507\n",
      "   macro avg       0.87      0.58      0.63      6507\n",
      "weighted avg       0.98      0.99      0.98      6507\n",
      "\n",
      "------------------------------------------------------\n",
      "\n",
      "CATEGORY: money\n",
      "\n",
      "              precision    recall  f1-score   support\n",
      "\n",
      "           0       0.98      1.00      0.99      6339\n",
      "           1       0.69      0.05      0.10       168\n",
      "\n",
      "   micro avg       0.97      0.97      0.97      6507\n",
      "   macro avg       0.83      0.53      0.54      6507\n",
      "weighted avg       0.97      0.97      0.96      6507\n",
      "\n",
      "------------------------------------------------------\n",
      "\n",
      "CATEGORY: missing_people\n",
      "\n",
      "              precision    recall  f1-score   support\n",
      "\n",
      "           0       0.99      1.00      0.99      6439\n",
      "           1       0.50      0.01      0.03        68\n",
      "\n",
      "   micro avg       0.99      0.99      0.99      6507\n",
      "   macro avg       0.74      0.51      0.51      6507\n",
      "weighted avg       0.98      0.99      0.98      6507\n",
      "\n",
      "------------------------------------------------------\n",
      "\n",
      "CATEGORY: refugees\n",
      "\n",
      "              precision    recall  f1-score   support\n",
      "\n",
      "           0       0.97      1.00      0.98      6299\n",
      "           1       0.62      0.13      0.22       208\n",
      "\n",
      "   micro avg       0.97      0.97      0.97      6507\n",
      "   macro avg       0.80      0.57      0.60      6507\n",
      "weighted avg       0.96      0.97      0.96      6507\n",
      "\n",
      "------------------------------------------------------\n",
      "\n",
      "CATEGORY: death\n",
      "\n",
      "              precision    recall  f1-score   support\n",
      "\n",
      "           0       0.96      1.00      0.98      6213\n",
      "           1       0.79      0.20      0.32       294\n",
      "\n",
      "   micro avg       0.96      0.96      0.96      6507\n",
      "   macro avg       0.88      0.60      0.65      6507\n",
      "weighted avg       0.96      0.96      0.95      6507\n",
      "\n",
      "------------------------------------------------------\n",
      "\n",
      "CATEGORY: other_aid\n",
      "\n",
      "              precision    recall  f1-score   support\n",
      "\n",
      "           0       0.88      0.99      0.93      5673\n",
      "           1       0.50      0.05      0.09       834\n",
      "\n",
      "   micro avg       0.87      0.87      0.87      6507\n",
      "   macro avg       0.69      0.52      0.51      6507\n",
      "weighted avg       0.83      0.87      0.82      6507\n",
      "\n",
      "------------------------------------------------------\n",
      "\n",
      "CATEGORY: infrastructure_related\n",
      "\n",
      "              precision    recall  f1-score   support\n",
      "\n",
      "           0       0.94      1.00      0.97      6088\n",
      "           1       0.17      0.00      0.01       419\n",
      "\n",
      "   micro avg       0.93      0.93      0.93      6507\n",
      "   macro avg       0.55      0.50      0.49      6507\n",
      "weighted avg       0.89      0.93      0.90      6507\n",
      "\n",
      "------------------------------------------------------\n",
      "\n",
      "CATEGORY: transport\n",
      "\n",
      "              precision    recall  f1-score   support\n",
      "\n",
      "           0       0.96      1.00      0.98      6210\n",
      "           1       0.71      0.11      0.19       297\n",
      "\n",
      "   micro avg       0.96      0.96      0.96      6507\n",
      "   macro avg       0.84      0.55      0.58      6507\n",
      "weighted avg       0.95      0.96      0.94      6507\n",
      "\n",
      "------------------------------------------------------\n",
      "\n",
      "CATEGORY: buildings\n",
      "\n",
      "              precision    recall  f1-score   support\n",
      "\n",
      "           0       0.95      1.00      0.97      6148\n",
      "           1       0.81      0.16      0.26       359\n",
      "\n",
      "   micro avg       0.95      0.95      0.95      6507\n",
      "   macro avg       0.88      0.58      0.62      6507\n",
      "weighted avg       0.95      0.95      0.94      6507\n"
     ]
    },
    {
     "name": "stdout",
     "output_type": "stream",
     "text": [
      "\n",
      "------------------------------------------------------\n",
      "\n",
      "CATEGORY: electricity\n",
      "\n",
      "              precision    recall  f1-score   support\n",
      "\n",
      "           0       0.98      1.00      0.99      6380\n",
      "           1       0.67      0.05      0.09       127\n",
      "\n",
      "   micro avg       0.98      0.98      0.98      6507\n",
      "   macro avg       0.82      0.52      0.54      6507\n",
      "weighted avg       0.98      0.98      0.97      6507\n",
      "\n",
      "------------------------------------------------------\n",
      "\n",
      "CATEGORY: tools\n",
      "\n",
      "              precision    recall  f1-score   support\n",
      "\n",
      "           0       0.99      1.00      1.00      6467\n",
      "           1       0.00      0.00      0.00        40\n",
      "\n",
      "   micro avg       0.99      0.99      0.99      6507\n",
      "   macro avg       0.50      0.50      0.50      6507\n",
      "weighted avg       0.99      0.99      0.99      6507\n",
      "\n",
      "------------------------------------------------------\n",
      "\n",
      "CATEGORY: hospitals\n",
      "\n",
      "              precision    recall  f1-score   support\n",
      "\n",
      "           0       0.99      1.00      0.99      6436\n",
      "           1       0.00      0.00      0.00        71\n",
      "\n",
      "   micro avg       0.99      0.99      0.99      6507\n",
      "   macro avg       0.49      0.50      0.50      6507\n",
      "weighted avg       0.98      0.99      0.98      6507\n",
      "\n",
      "------------------------------------------------------\n",
      "\n",
      "CATEGORY: shops\n",
      "\n",
      "              precision    recall  f1-score   support\n",
      "\n",
      "           0       0.99      1.00      1.00      6472\n",
      "           1       0.00      0.00      0.00        35\n",
      "\n",
      "   micro avg       0.99      0.99      0.99      6507\n",
      "   macro avg       0.50      0.50      0.50      6507\n",
      "weighted avg       0.99      0.99      0.99      6507\n",
      "\n",
      "------------------------------------------------------\n",
      "\n",
      "CATEGORY: aid_centers\n",
      "\n",
      "              precision    recall  f1-score   support\n",
      "\n",
      "           0       0.99      1.00      0.99      6435\n",
      "           1       0.00      0.00      0.00        72\n",
      "\n",
      "   micro avg       0.99      0.99      0.99      6507\n",
      "   macro avg       0.49      0.50      0.50      6507\n",
      "weighted avg       0.98      0.99      0.98      6507\n",
      "\n",
      "------------------------------------------------------\n",
      "\n",
      "CATEGORY: other_infrastructure\n",
      "\n",
      "              precision    recall  f1-score   support\n",
      "\n",
      "           0       0.96      1.00      0.98      6226\n",
      "           1       0.00      0.00      0.00       281\n",
      "\n",
      "   micro avg       0.96      0.96      0.96      6507\n",
      "   macro avg       0.48      0.50      0.49      6507\n",
      "weighted avg       0.92      0.96      0.94      6507\n",
      "\n",
      "------------------------------------------------------\n",
      "\n",
      "CATEGORY: weather_related\n",
      "\n",
      "              precision    recall  f1-score   support\n",
      "\n",
      "           0       0.87      0.96      0.91      4693\n",
      "           1       0.85      0.62      0.72      1814\n",
      "\n",
      "   micro avg       0.86      0.86      0.86      6507\n",
      "   macro avg       0.86      0.79      0.81      6507\n",
      "weighted avg       0.86      0.86      0.86      6507\n",
      "\n",
      "------------------------------------------------------\n",
      "\n",
      "CATEGORY: floods\n",
      "\n",
      "              precision    recall  f1-score   support\n",
      "\n",
      "           0       0.95      0.99      0.97      5973\n",
      "           1       0.87      0.43      0.58       534\n",
      "\n",
      "   micro avg       0.95      0.95      0.95      6507\n",
      "   macro avg       0.91      0.71      0.78      6507\n",
      "weighted avg       0.95      0.95      0.94      6507\n",
      "\n",
      "------------------------------------------------------\n",
      "\n",
      "CATEGORY: storm\n",
      "\n",
      "              precision    recall  f1-score   support\n",
      "\n",
      "           0       0.94      0.99      0.96      5883\n",
      "           1       0.77      0.42      0.55       624\n",
      "\n",
      "   micro avg       0.93      0.93      0.93      6507\n",
      "   macro avg       0.86      0.71      0.76      6507\n",
      "weighted avg       0.93      0.93      0.92      6507\n",
      "\n",
      "------------------------------------------------------\n",
      "\n",
      "CATEGORY: fire\n",
      "\n",
      "              precision    recall  f1-score   support\n",
      "\n",
      "           0       0.99      1.00      0.99      6435\n",
      "           1       0.00      0.00      0.00        72\n",
      "\n",
      "   micro avg       0.99      0.99      0.99      6507\n",
      "   macro avg       0.49      0.50      0.50      6507\n",
      "weighted avg       0.98      0.99      0.98      6507\n",
      "\n",
      "------------------------------------------------------\n",
      "\n",
      "CATEGORY: earthquake\n",
      "\n",
      "              precision    recall  f1-score   support\n",
      "\n",
      "           0       0.97      0.99      0.98      5901\n",
      "           1       0.89      0.70      0.78       606\n",
      "\n",
      "   micro avg       0.96      0.96      0.96      6507\n",
      "   macro avg       0.93      0.85      0.88      6507\n",
      "weighted avg       0.96      0.96      0.96      6507\n",
      "\n",
      "------------------------------------------------------\n",
      "\n",
      "CATEGORY: cold\n",
      "\n",
      "              precision    recall  f1-score   support\n",
      "\n",
      "           0       0.98      1.00      0.99      6367\n",
      "           1       0.69      0.06      0.12       140\n",
      "\n",
      "   micro avg       0.98      0.98      0.98      6507\n",
      "   macro avg       0.84      0.53      0.55      6507\n",
      "weighted avg       0.97      0.98      0.97      6507\n",
      "\n",
      "------------------------------------------------------\n",
      "\n",
      "CATEGORY: other_weather\n",
      "\n",
      "              precision    recall  f1-score   support\n",
      "\n",
      "           0       0.95      1.00      0.97      6177\n",
      "           1       0.54      0.04      0.07       330\n",
      "\n",
      "   micro avg       0.95      0.95      0.95      6507\n",
      "   macro avg       0.75      0.52      0.52      6507\n",
      "weighted avg       0.93      0.95      0.93      6507\n",
      "\n",
      "------------------------------------------------------\n",
      "\n",
      "CATEGORY: direct_report\n",
      "\n",
      "              precision    recall  f1-score   support\n",
      "\n",
      "           0       0.85      0.97      0.91      5210\n",
      "           1       0.74      0.31      0.44      1297\n",
      "\n",
      "   micro avg       0.84      0.84      0.84      6507\n",
      "   macro avg       0.79      0.64      0.67      6507\n",
      "weighted avg       0.83      0.84      0.81      6507\n",
      "\n"
     ]
    }
   ],
   "source": [
    "# Report the f1 score, precision and recall for each output category of the dataset by iterating through the columns\n",
    "# and calling sklearn's classification_report on each column\n",
    "for column in Y_test.columns:\n",
    "    print('------------------------------------------------------\\n')\n",
    "    print('CATEGORY: {}\\n'.format(column))\n",
    "    print(classification_report(Y_test[column],pd.DataFrame(Y_pred, columns=Y_test.columns)[column]))"
   ]
  },
  {
   "cell_type": "markdown",
   "metadata": {},
   "source": [
    "### 6. Improve your model\n",
    "Use grid search to find better parameters. "
   ]
  },
  {
   "cell_type": "markdown",
   "metadata": {},
   "source": [
    "#### 6.1 Add custom Estimator"
   ]
  },
  {
   "cell_type": "code",
   "execution_count": 33,
   "metadata": {},
   "outputs": [],
   "source": [
    "class StartingVerbExtractor(BaseEstimator, TransformerMixin):\n",
    "\n",
    "    def starting_verb(self, text):\n",
    "        sentence_list = nltk.sent_tokenize(text)\n",
    "#        print('*'*100)\n",
    "#        print(sentence_list)\n",
    "        for sentence in sentence_list:\n",
    "            pos_tags = nltk.pos_tag(tokenize(sentence))\n",
    "#            print(pos_tags)\n",
    "#            print(type(pos_tags))\n",
    "            if pos_tags:\n",
    "                first_word, first_tag = pos_tags[0]\n",
    "                if first_tag in ['VB', 'VBP'] or first_word == 'RT':\n",
    "                    return float(True)\n",
    "        return float(False)\n",
    "\n",
    "    def fit(self, X, y=None):\n",
    "        return self\n",
    "\n",
    "    def transform(self, X):\n",
    "        X_tagged = pd.Series(X).apply(self.starting_verb)\n",
    "        return pd.DataFrame(X_tagged)"
   ]
  },
  {
   "cell_type": "code",
   "execution_count": 34,
   "metadata": {},
   "outputs": [
    {
     "data": {
      "text/plain": [
       "pandas.core.series.Series"
      ]
     },
     "execution_count": 34,
     "metadata": {},
     "output_type": "execute_result"
    }
   ],
   "source": [
    "type(X_train[:5])"
   ]
  },
  {
   "cell_type": "code",
   "execution_count": 35,
   "metadata": {},
   "outputs": [
    {
     "data": {
      "text/plain": [
       "pandas.core.series.Series"
      ]
     },
     "execution_count": 35,
     "metadata": {},
     "output_type": "execute_result"
    }
   ],
   "source": [
    "type(pd.Series(X_train[:5]))"
   ]
  },
  {
   "cell_type": "code",
   "execution_count": 36,
   "metadata": {},
   "outputs": [
    {
     "name": "stdout",
     "output_type": "stream",
     "text": [
      "2796 Petit Goave #1 needs food. Where can we sleep. Please, we're asking not take years because we can't survive?\n",
      "16642 Monsoon downpours and upstream waters cascading down the hills from across the border in northeastern India, swamped towns and villages in Bangladesh inundating mud walled dwellings, rice farms, roads, bridges and factories.\n",
      "17486 Cyclone Nargis hit the densely populated delta last month, killing up to 134,000 people and leaving 2.4 million destitute.\n",
      "4034 I received all your SMS but I never got any aid where I live. Thank you. \n",
      "25729 In the South-South states of Delta and Rivers, VAWG incidents often occur within the context of domestic, criminal and cult violence; with women being both targets as well as innocent bystanders swept up in the general insecurity.\n"
     ]
    }
   ],
   "source": [
    "for idx in X_train.index[0:5]:\n",
    "    print(idx, X_train[idx])"
   ]
  },
  {
   "cell_type": "code",
   "execution_count": 37,
   "metadata": {},
   "outputs": [
    {
     "data": {
      "text/plain": [
       "['__class__',\n",
       " '__delattr__',\n",
       " '__dict__',\n",
       " '__dir__',\n",
       " '__doc__',\n",
       " '__eq__',\n",
       " '__format__',\n",
       " '__ge__',\n",
       " '__getattribute__',\n",
       " '__getstate__',\n",
       " '__gt__',\n",
       " '__hash__',\n",
       " '__init__',\n",
       " '__init_subclass__',\n",
       " '__le__',\n",
       " '__lt__',\n",
       " '__module__',\n",
       " '__ne__',\n",
       " '__new__',\n",
       " '__reduce__',\n",
       " '__reduce_ex__',\n",
       " '__repr__',\n",
       " '__setattr__',\n",
       " '__setstate__',\n",
       " '__sizeof__',\n",
       " '__str__',\n",
       " '__subclasshook__',\n",
       " '__weakref__',\n",
       " '_get_param_names',\n",
       " 'fit',\n",
       " 'fit_transform',\n",
       " 'get_params',\n",
       " 'set_params',\n",
       " 'starting_verb',\n",
       " 'transform']"
      ]
     },
     "execution_count": 37,
     "metadata": {},
     "output_type": "execute_result"
    }
   ],
   "source": [
    "SVE = StartingVerbExtractor()\n",
    "#SVE.fit(X_train[:5]).tranform(X_train)\n",
    "dir(SVE)"
   ]
  },
  {
   "cell_type": "code",
   "execution_count": 38,
   "metadata": {},
   "outputs": [
    {
     "data": {
      "text/plain": [
       "1.0"
      ]
     },
     "execution_count": 38,
     "metadata": {},
     "output_type": "execute_result"
    }
   ],
   "source": [
    "SVE = StartingVerbExtractor()\n",
    "SVE.starting_verb(\"Petit Goave #1 needs food. Where can we sleep. Please, we're asking not take years because we can't survive?\")"
   ]
  },
  {
   "cell_type": "markdown",
   "metadata": {},
   "source": [
    "#### 6.2 Improve pipeline"
   ]
  },
  {
   "cell_type": "code",
   "execution_count": 39,
   "metadata": {},
   "outputs": [],
   "source": [
    "# Create a new improved pipeline\n",
    "pipeline_new = Pipeline([('features', FeatureUnion([\n",
    "                                        ('text_pipeline', Pipeline([\n",
    "                                            ('vect', CountVectorizer(tokenizer=tokenize)),\n",
    "                                            ('tfidf', TfidfTransformer())])),\n",
    "                                        ('starting_verb', StartingVerbExtractor())])),\n",
    "                         ('clf', MultiOutputClassifier(RandomForestClassifier()))\n",
    "                    ])"
   ]
  },
  {
   "cell_type": "markdown",
   "metadata": {},
   "source": [
    "#### 6.3 Specify parameters for grid search"
   ]
  },
  {
   "cell_type": "code",
   "execution_count": 40,
   "metadata": {},
   "outputs": [],
   "source": [
    "# Specify parameters for grid search\n",
    "parameters = {\n",
    "    'features__text_pipeline__vect__ngram_range': [(1,2)],\n",
    "    'features__text_pipeline__vect__max_df': [0.75],\n",
    "    'features__text_pipeline__vect__max_features': [5000],\n",
    "    'features__text_pipeline__tfidf__use_idf': [True],\n",
    "#   'features__text_pipeline__vect__ngram_range': ((1, 1), (1, 2)),\n",
    "#   'features__text_pipeline__vect__max_df': (0.5, 0.75, 1.0),\n",
    "#   'features__text_pipeline__vect__max_features': (None, 5000, 10000),\n",
    "#   'features__text_pipeline__tfidf__use_idf': (True, False),\n",
    "    'clf__estimator__n_estimators': [200],\n",
    "    'clf__estimator__min_samples_split': [4],\n",
    "#    'clf__estimator__n_estimators': [50,100,200],\n",
    "#    'clf__estimator__min_samples_split': [2,3,4],\n",
    "    'features__transformer_weights': (\n",
    "        {'text_pipeline': 1, 'starting_verb': 0.5},\n",
    "#        {'text_pipeline': 0.5, 'starting_verb': 1},\n",
    "#        {'text_pipeline': 0.8, 'starting_verb': 1},\n",
    "    )\n",
    "}"
   ]
  },
  {
   "cell_type": "markdown",
   "metadata": {},
   "source": [
    "#### 6.3 Define custom scorer"
   ]
  },
  {
   "cell_type": "code",
   "execution_count": 41,
   "metadata": {},
   "outputs": [],
   "source": [
    "# Specify custom scorer\n",
    "scorer = make_scorer(multi_label_fscore,greater_is_better = True)"
   ]
  },
  {
   "cell_type": "markdown",
   "metadata": {},
   "source": [
    "#### 6.4 Create grid search object"
   ]
  },
  {
   "cell_type": "code",
   "execution_count": 42,
   "metadata": {},
   "outputs": [],
   "source": [
    "# create grid search object\n",
    "cv = GridSearchCV(pipeline_new, param_grid=parameters, scoring=scorer,verbose = 2)"
   ]
  },
  {
   "cell_type": "code",
   "execution_count": 101,
   "metadata": {},
   "outputs": [
    {
     "name": "stdout",
     "output_type": "stream",
     "text": [
      "{'clf': MultiOutputClassifier(estimator=RandomForestClassifier(bootstrap=True, class_weight=None, criterion='gini',\n",
      "            max_depth=None, max_features='auto', max_leaf_nodes=None,\n",
      "            min_impurity_decrease=0.0, min_impurity_split=None,\n",
      "            min_samples_leaf=1, min_samples_split=2,\n",
      "            min_weight_fraction_leaf=0.0, n_estimators='warn', n_jobs=None,\n",
      "            oob_score=False, random_state=None, verbose=0,\n",
      "            warm_start=False),\n",
      "           n_jobs=None),\n",
      " 'clf__estimator': RandomForestClassifier(bootstrap=True, class_weight=None, criterion='gini',\n",
      "            max_depth=None, max_features='auto', max_leaf_nodes=None,\n",
      "            min_impurity_decrease=0.0, min_impurity_split=None,\n",
      "            min_samples_leaf=1, min_samples_split=2,\n",
      "            min_weight_fraction_leaf=0.0, n_estimators='warn', n_jobs=None,\n",
      "            oob_score=False, random_state=None, verbose=0,\n",
      "            warm_start=False),\n",
      " 'clf__estimator__bootstrap': True,\n",
      " 'clf__estimator__class_weight': None,\n",
      " 'clf__estimator__criterion': 'gini',\n",
      " 'clf__estimator__max_depth': None,\n",
      " 'clf__estimator__max_features': 'auto',\n",
      " 'clf__estimator__max_leaf_nodes': None,\n",
      " 'clf__estimator__min_impurity_decrease': 0.0,\n",
      " 'clf__estimator__min_impurity_split': None,\n",
      " 'clf__estimator__min_samples_leaf': 1,\n",
      " 'clf__estimator__min_samples_split': 2,\n",
      " 'clf__estimator__min_weight_fraction_leaf': 0.0,\n",
      " 'clf__estimator__n_estimators': 'warn',\n",
      " 'clf__estimator__n_jobs': None,\n",
      " 'clf__estimator__oob_score': False,\n",
      " 'clf__estimator__random_state': None,\n",
      " 'clf__estimator__verbose': 0,\n",
      " 'clf__estimator__warm_start': False,\n",
      " 'clf__n_jobs': None,\n",
      " 'features': FeatureUnion(n_jobs=None,\n",
      "       transformer_list=[('text_pipeline', Pipeline(memory=None,\n",
      "     steps=[('vect', CountVectorizer(analyzer='word', binary=False, decode_error='strict',\n",
      "        dtype=<class 'numpy.int64'>, encoding='utf-8', input='content',\n",
      "        lowercase=True, max_df=1.0, max_features=None, min_df=1,\n",
      "        ngram_... smooth_idf=True, sublinear_tf=False, use_idf=True))])), ('starting_verb', StartingVerbExtractor())],\n",
      "       transformer_weights=None),\n",
      " 'features__n_jobs': None,\n",
      " 'features__starting_verb': StartingVerbExtractor(),\n",
      " 'features__text_pipeline': Pipeline(memory=None,\n",
      "     steps=[('vect', CountVectorizer(analyzer='word', binary=False, decode_error='strict',\n",
      "        dtype=<class 'numpy.int64'>, encoding='utf-8', input='content',\n",
      "        lowercase=True, max_df=1.0, max_features=None, min_df=1,\n",
      "        ngram_range=(1, 1), preprocessor=None, stop_words=None,\n",
      "        strip...y=None)), ('tfidf', TfidfTransformer(norm='l2', smooth_idf=True, sublinear_tf=False, use_idf=True))]),\n",
      " 'features__text_pipeline__memory': None,\n",
      " 'features__text_pipeline__steps': [('vect',\n",
      "                                     CountVectorizer(analyzer='word', binary=False, decode_error='strict',\n",
      "        dtype=<class 'numpy.int64'>, encoding='utf-8', input='content',\n",
      "        lowercase=True, max_df=1.0, max_features=None, min_df=1,\n",
      "        ngram_range=(1, 1), preprocessor=None, stop_words=None,\n",
      "        strip_accents=None, token_pattern='(?u)\\\\b\\\\w\\\\w+\\\\b',\n",
      "        tokenizer=<function tokenize at 0x0000019F50863F28>,\n",
      "        vocabulary=None)),\n",
      "                                    ('tfidf',\n",
      "                                     TfidfTransformer(norm='l2', smooth_idf=True, sublinear_tf=False, use_idf=True))],\n",
      " 'features__text_pipeline__tfidf': TfidfTransformer(norm='l2', smooth_idf=True, sublinear_tf=False, use_idf=True),\n",
      " 'features__text_pipeline__tfidf__norm': 'l2',\n",
      " 'features__text_pipeline__tfidf__smooth_idf': True,\n",
      " 'features__text_pipeline__tfidf__sublinear_tf': False,\n",
      " 'features__text_pipeline__tfidf__use_idf': True,\n",
      " 'features__text_pipeline__vect': CountVectorizer(analyzer='word', binary=False, decode_error='strict',\n",
      "        dtype=<class 'numpy.int64'>, encoding='utf-8', input='content',\n",
      "        lowercase=True, max_df=1.0, max_features=None, min_df=1,\n",
      "        ngram_range=(1, 1), preprocessor=None, stop_words=None,\n",
      "        strip_accents=None, token_pattern='(?u)\\\\b\\\\w\\\\w+\\\\b',\n",
      "        tokenizer=<function tokenize at 0x0000019F50863F28>,\n",
      "        vocabulary=None),\n",
      " 'features__text_pipeline__vect__analyzer': 'word',\n",
      " 'features__text_pipeline__vect__binary': False,\n",
      " 'features__text_pipeline__vect__decode_error': 'strict',\n",
      " 'features__text_pipeline__vect__dtype': <class 'numpy.int64'>,\n",
      " 'features__text_pipeline__vect__encoding': 'utf-8',\n",
      " 'features__text_pipeline__vect__input': 'content',\n",
      " 'features__text_pipeline__vect__lowercase': True,\n",
      " 'features__text_pipeline__vect__max_df': 1.0,\n",
      " 'features__text_pipeline__vect__max_features': None,\n",
      " 'features__text_pipeline__vect__min_df': 1,\n",
      " 'features__text_pipeline__vect__ngram_range': (1, 1),\n",
      " 'features__text_pipeline__vect__preprocessor': None,\n",
      " 'features__text_pipeline__vect__stop_words': None,\n",
      " 'features__text_pipeline__vect__strip_accents': None,\n",
      " 'features__text_pipeline__vect__token_pattern': '(?u)\\\\b\\\\w\\\\w+\\\\b',\n",
      " 'features__text_pipeline__vect__tokenizer': <function tokenize at 0x0000019F50863F28>,\n",
      " 'features__text_pipeline__vect__vocabulary': None,\n",
      " 'features__transformer_list': [('text_pipeline',\n",
      "                                 Pipeline(memory=None,\n",
      "     steps=[('vect', CountVectorizer(analyzer='word', binary=False, decode_error='strict',\n",
      "        dtype=<class 'numpy.int64'>, encoding='utf-8', input='content',\n",
      "        lowercase=True, max_df=1.0, max_features=None, min_df=1,\n",
      "        ngram_range=(1, 1), preprocessor=None, stop_words=None,\n",
      "        strip...y=None)), ('tfidf', TfidfTransformer(norm='l2', smooth_idf=True, sublinear_tf=False, use_idf=True))])),\n",
      "                                ('starting_verb', StartingVerbExtractor())],\n",
      " 'features__transformer_weights': None,\n",
      " 'memory': None,\n",
      " 'steps': [('features',\n",
      "            FeatureUnion(n_jobs=None,\n",
      "       transformer_list=[('text_pipeline', Pipeline(memory=None,\n",
      "     steps=[('vect', CountVectorizer(analyzer='word', binary=False, decode_error='strict',\n",
      "        dtype=<class 'numpy.int64'>, encoding='utf-8', input='content',\n",
      "        lowercase=True, max_df=1.0, max_features=None, min_df=1,\n",
      "        ngram_... smooth_idf=True, sublinear_tf=False, use_idf=True))])), ('starting_verb', StartingVerbExtractor())],\n",
      "       transformer_weights=None)),\n",
      "           ('clf',\n",
      "            MultiOutputClassifier(estimator=RandomForestClassifier(bootstrap=True, class_weight=None, criterion='gini',\n",
      "            max_depth=None, max_features='auto', max_leaf_nodes=None,\n",
      "            min_impurity_decrease=0.0, min_impurity_split=None,\n",
      "            min_samples_leaf=1, min_samples_split=2,\n",
      "            min_weight_fraction_leaf=0.0, n_estimators='warn', n_jobs=None,\n",
      "            oob_score=False, random_state=None, verbose=0,\n",
      "            warm_start=False),\n",
      "           n_jobs=None))]}\n"
     ]
    }
   ],
   "source": [
    "# Print grid search CV object params\n",
    "from pprint import pprint\n",
    "import json\n",
    "\n",
    "#data = json.dumps(my_dict, indent=1)\n",
    "#data=pipeline_new.get_params().keys()\n",
    "pprint(pipeline_new.get_params())\n",
    "#type(pipeline_new.get_params())"
   ]
  },
  {
   "cell_type": "code",
   "execution_count": 44,
   "metadata": {},
   "outputs": [
    {
     "name": "stdout",
     "output_type": "stream",
     "text": [
      "Fitting 3 folds for each of 1 candidates, totalling 3 fits\n",
      "[CV] clf__estimator__min_samples_split=4, clf__estimator__n_estimators=200, features__text_pipeline__tfidf__use_idf=True, features__text_pipeline__vect__max_df=0.75, features__text_pipeline__vect__max_features=5000, features__text_pipeline__vect__ngram_range=(1, 2), features__transformer_weights={'text_pipeline': 1, 'starting_verb': 0.5} \n"
     ]
    },
    {
     "name": "stderr",
     "output_type": "stream",
     "text": [
      "[Parallel(n_jobs=1)]: Using backend SequentialBackend with 1 concurrent workers.\n",
      "C:\\Users\\125779\\AppData\\Local\\Continuum\\anaconda3\\envs\\dsnd\\lib\\site-packages\\sklearn\\metrics\\classification.py:1143: UndefinedMetricWarning: F-score is ill-defined and being set to 0.0 in labels with no predicted samples.\n",
      "  'precision', 'predicted', average, warn_for)\n"
     ]
    },
    {
     "name": "stdout",
     "output_type": "stream",
     "text": [
      "[CV]  clf__estimator__min_samples_split=4, clf__estimator__n_estimators=200, features__text_pipeline__tfidf__use_idf=True, features__text_pipeline__vect__max_df=0.75, features__text_pipeline__vect__max_features=5000, features__text_pipeline__vect__ngram_range=(1, 2), features__transformer_weights={'text_pipeline': 1, 'starting_verb': 0.5}, total= 6.3min\n",
      "[CV] clf__estimator__min_samples_split=4, clf__estimator__n_estimators=200, features__text_pipeline__tfidf__use_idf=True, features__text_pipeline__vect__max_df=0.75, features__text_pipeline__vect__max_features=5000, features__text_pipeline__vect__ngram_range=(1, 2), features__transformer_weights={'text_pipeline': 1, 'starting_verb': 0.5} "
     ]
    },
    {
     "name": "stderr",
     "output_type": "stream",
     "text": [
      "[Parallel(n_jobs=1)]: Done   1 out of   1 | elapsed:  7.7min remaining:    0.0s\n"
     ]
    },
    {
     "name": "stdout",
     "output_type": "stream",
     "text": [
      "\n"
     ]
    },
    {
     "name": "stderr",
     "output_type": "stream",
     "text": [
      "C:\\Users\\125779\\AppData\\Local\\Continuum\\anaconda3\\envs\\dsnd\\lib\\site-packages\\sklearn\\metrics\\classification.py:1143: UndefinedMetricWarning: F-score is ill-defined and being set to 0.0 in labels with no predicted samples.\n",
      "  'precision', 'predicted', average, warn_for)\n"
     ]
    },
    {
     "name": "stdout",
     "output_type": "stream",
     "text": [
      "[CV]  clf__estimator__min_samples_split=4, clf__estimator__n_estimators=200, features__text_pipeline__tfidf__use_idf=True, features__text_pipeline__vect__max_df=0.75, features__text_pipeline__vect__max_features=5000, features__text_pipeline__vect__ngram_range=(1, 2), features__transformer_weights={'text_pipeline': 1, 'starting_verb': 0.5}, total= 6.3min\n",
      "[CV] clf__estimator__min_samples_split=4, clf__estimator__n_estimators=200, features__text_pipeline__tfidf__use_idf=True, features__text_pipeline__vect__max_df=0.75, features__text_pipeline__vect__max_features=5000, features__text_pipeline__vect__ngram_range=(1, 2), features__transformer_weights={'text_pipeline': 1, 'starting_verb': 0.5} \n"
     ]
    },
    {
     "name": "stderr",
     "output_type": "stream",
     "text": [
      "C:\\Users\\125779\\AppData\\Local\\Continuum\\anaconda3\\envs\\dsnd\\lib\\site-packages\\sklearn\\metrics\\classification.py:1143: UndefinedMetricWarning: F-score is ill-defined and being set to 0.0 in labels with no predicted samples.\n",
      "  'precision', 'predicted', average, warn_for)\n"
     ]
    },
    {
     "name": "stdout",
     "output_type": "stream",
     "text": [
      "[CV]  clf__estimator__min_samples_split=4, clf__estimator__n_estimators=200, features__text_pipeline__tfidf__use_idf=True, features__text_pipeline__vect__max_df=0.75, features__text_pipeline__vect__max_features=5000, features__text_pipeline__vect__ngram_range=(1, 2), features__transformer_weights={'text_pipeline': 1, 'starting_verb': 0.5}, total= 6.7min\n"
     ]
    },
    {
     "name": "stderr",
     "output_type": "stream",
     "text": [
      "[Parallel(n_jobs=1)]: Done   3 out of   3 | elapsed: 24.2min finished\n"
     ]
    },
    {
     "data": {
      "text/plain": [
       "GridSearchCV(cv='warn', error_score='raise-deprecating',\n",
       "       estimator=Pipeline(memory=None,\n",
       "     steps=[('features', FeatureUnion(n_jobs=None,\n",
       "       transformer_list=[('text_pipeline', Pipeline(memory=None,\n",
       "     steps=[('vect', CountVectorizer(analyzer='word', binary=False, decode_error='strict',\n",
       "        dtype=<class 'numpy.int64'>, encoding='utf-8', input='content',\n",
       "        lowercase=True, ma..._score=False, random_state=None, verbose=0,\n",
       "            warm_start=False),\n",
       "           n_jobs=None))]),\n",
       "       fit_params=None, iid='warn', n_jobs=None,\n",
       "       param_grid={'features__text_pipeline__vect__ngram_range': [(1, 2)], 'features__text_pipeline__vect__max_df': [0.75], 'features__text_pipeline__vect__max_features': [5000], 'features__text_pipeline__tfidf__use_idf': [True], 'clf__estimator__n_estimators': [200], 'clf__estimator__min_samples_split': [4], 'features__transformer_weights': ({'text_pipeline': 1, 'starting_verb': 0.5},)},\n",
       "       pre_dispatch='2*n_jobs', refit=True, return_train_score='warn',\n",
       "       scoring=make_scorer(multi_label_fscore), verbose=2)"
      ]
     },
     "execution_count": 44,
     "metadata": {},
     "output_type": "execute_result"
    }
   ],
   "source": [
    "# Fit GridSearchCV object to training set\n",
    "cv.fit(X_train, Y_train)"
   ]
  },
  {
   "cell_type": "markdown",
   "metadata": {},
   "source": [
    "**After trying various combinations of parameters defined in parameter's grid, we have the best estimator as per the metrics on the training set and below are the details for best estimator and parameters.**"
   ]
  },
  {
   "cell_type": "code",
   "execution_count": 103,
   "metadata": {},
   "outputs": [
    {
     "data": {
      "text/plain": [
       "Pipeline(memory=None,\n",
       "     steps=[('features', FeatureUnion(n_jobs=None,\n",
       "       transformer_list=[('text_pipeline', Pipeline(memory=None,\n",
       "     steps=[('vect', CountVectorizer(analyzer='word', binary=False, decode_error='strict',\n",
       "        dtype=<class 'numpy.int64'>, encoding='utf-8', input='content',\n",
       "        lowercase=True, ma..._score=False, random_state=None, verbose=0,\n",
       "            warm_start=False),\n",
       "           n_jobs=None))])"
      ]
     },
     "execution_count": 103,
     "metadata": {},
     "output_type": "execute_result"
    }
   ],
   "source": [
    "# Print best estimator for GridSearchCV object\n",
    "cv.best_estimator_"
   ]
  },
  {
   "cell_type": "code",
   "execution_count": 110,
   "metadata": {},
   "outputs": [
    {
     "name": "stdout",
     "output_type": "stream",
     "text": [
      "{'clf': MultiOutputClassifier(estimator=RandomForestClassifier(bootstrap=True, class_weight=None, criterion='gini',\n",
      "            max_depth=None, max_features='auto', max_leaf_nodes=None,\n",
      "            min_impurity_decrease=0.0, min_impurity_split=None,\n",
      "            min_samples_leaf=1, min_samples_split=4,\n",
      "            min_weight_fraction_leaf=0.0, n_estimators=200, n_jobs=None,\n",
      "            oob_score=False, random_state=None, verbose=0,\n",
      "            warm_start=False),\n",
      "           n_jobs=None),\n",
      " 'clf__estimator': RandomForestClassifier(bootstrap=True, class_weight=None, criterion='gini',\n",
      "            max_depth=None, max_features='auto', max_leaf_nodes=None,\n",
      "            min_impurity_decrease=0.0, min_impurity_split=None,\n",
      "            min_samples_leaf=1, min_samples_split=4,\n",
      "            min_weight_fraction_leaf=0.0, n_estimators=200, n_jobs=None,\n",
      "            oob_score=False, random_state=None, verbose=0,\n",
      "            warm_start=False),\n",
      " 'clf__estimator__bootstrap': True,\n",
      " 'clf__estimator__class_weight': None,\n",
      " 'clf__estimator__criterion': 'gini',\n",
      " 'clf__estimator__max_depth': None,\n",
      " 'clf__estimator__max_features': 'auto',\n",
      " 'clf__estimator__max_leaf_nodes': None,\n",
      " 'clf__estimator__min_impurity_decrease': 0.0,\n",
      " 'clf__estimator__min_impurity_split': None,\n",
      " 'clf__estimator__min_samples_leaf': 1,\n",
      " 'clf__estimator__min_samples_split': 4,\n",
      " 'clf__estimator__min_weight_fraction_leaf': 0.0,\n",
      " 'clf__estimator__n_estimators': 200,\n",
      " 'clf__estimator__n_jobs': None,\n",
      " 'clf__estimator__oob_score': False,\n",
      " 'clf__estimator__random_state': None,\n",
      " 'clf__estimator__verbose': 0,\n",
      " 'clf__estimator__warm_start': False,\n",
      " 'clf__n_jobs': None,\n",
      " 'features': FeatureUnion(n_jobs=None,\n",
      "       transformer_list=[('text_pipeline', Pipeline(memory=None,\n",
      "     steps=[('vect', CountVectorizer(analyzer='word', binary=False, decode_error='strict',\n",
      "        dtype=<class 'numpy.int64'>, encoding='utf-8', input='content',\n",
      "        lowercase=True, max_df=0.75, max_features=5000, min_df=1,\n",
      "        ngram... smooth_idf=True, sublinear_tf=False, use_idf=True))])), ('starting_verb', StartingVerbExtractor())],\n",
      "       transformer_weights={'text_pipeline': 1, 'starting_verb': 0.5}),\n",
      " 'features__n_jobs': None,\n",
      " 'features__starting_verb': StartingVerbExtractor(),\n",
      " 'features__text_pipeline': Pipeline(memory=None,\n",
      "     steps=[('vect', CountVectorizer(analyzer='word', binary=False, decode_error='strict',\n",
      "        dtype=<class 'numpy.int64'>, encoding='utf-8', input='content',\n",
      "        lowercase=True, max_df=0.75, max_features=5000, min_df=1,\n",
      "        ngram_range=(1, 2), preprocessor=None, stop_words=None,\n",
      "        stri...y=None)), ('tfidf', TfidfTransformer(norm='l2', smooth_idf=True, sublinear_tf=False, use_idf=True))]),\n",
      " 'features__text_pipeline__memory': None,\n",
      " 'features__text_pipeline__steps': [('vect',\n",
      "                                     CountVectorizer(analyzer='word', binary=False, decode_error='strict',\n",
      "        dtype=<class 'numpy.int64'>, encoding='utf-8', input='content',\n",
      "        lowercase=True, max_df=0.75, max_features=5000, min_df=1,\n",
      "        ngram_range=(1, 2), preprocessor=None, stop_words=None,\n",
      "        strip_accents=None, token_pattern='(?u)\\\\b\\\\w\\\\w+\\\\b',\n",
      "        tokenizer=<function tokenize at 0x0000019F50863F28>,\n",
      "        vocabulary=None)),\n",
      "                                    ('tfidf',\n",
      "                                     TfidfTransformer(norm='l2', smooth_idf=True, sublinear_tf=False, use_idf=True))],\n",
      " 'features__text_pipeline__tfidf': TfidfTransformer(norm='l2', smooth_idf=True, sublinear_tf=False, use_idf=True),\n",
      " 'features__text_pipeline__tfidf__norm': 'l2',\n",
      " 'features__text_pipeline__tfidf__smooth_idf': True,\n",
      " 'features__text_pipeline__tfidf__sublinear_tf': False,\n",
      " 'features__text_pipeline__tfidf__use_idf': True,\n",
      " 'features__text_pipeline__vect': CountVectorizer(analyzer='word', binary=False, decode_error='strict',\n",
      "        dtype=<class 'numpy.int64'>, encoding='utf-8', input='content',\n",
      "        lowercase=True, max_df=0.75, max_features=5000, min_df=1,\n",
      "        ngram_range=(1, 2), preprocessor=None, stop_words=None,\n",
      "        strip_accents=None, token_pattern='(?u)\\\\b\\\\w\\\\w+\\\\b',\n",
      "        tokenizer=<function tokenize at 0x0000019F50863F28>,\n",
      "        vocabulary=None),\n",
      " 'features__text_pipeline__vect__analyzer': 'word',\n",
      " 'features__text_pipeline__vect__binary': False,\n",
      " 'features__text_pipeline__vect__decode_error': 'strict',\n",
      " 'features__text_pipeline__vect__dtype': <class 'numpy.int64'>,\n",
      " 'features__text_pipeline__vect__encoding': 'utf-8',\n",
      " 'features__text_pipeline__vect__input': 'content',\n",
      " 'features__text_pipeline__vect__lowercase': True,\n",
      " 'features__text_pipeline__vect__max_df': 0.75,\n",
      " 'features__text_pipeline__vect__max_features': 5000,\n",
      " 'features__text_pipeline__vect__min_df': 1,\n",
      " 'features__text_pipeline__vect__ngram_range': (1, 2),\n",
      " 'features__text_pipeline__vect__preprocessor': None,\n",
      " 'features__text_pipeline__vect__stop_words': None,\n",
      " 'features__text_pipeline__vect__strip_accents': None,\n",
      " 'features__text_pipeline__vect__token_pattern': '(?u)\\\\b\\\\w\\\\w+\\\\b',\n",
      " 'features__text_pipeline__vect__tokenizer': <function tokenize at 0x0000019F50863F28>,\n",
      " 'features__text_pipeline__vect__vocabulary': None,\n",
      " 'features__transformer_list': [('text_pipeline',\n",
      "                                 Pipeline(memory=None,\n",
      "     steps=[('vect', CountVectorizer(analyzer='word', binary=False, decode_error='strict',\n",
      "        dtype=<class 'numpy.int64'>, encoding='utf-8', input='content',\n",
      "        lowercase=True, max_df=0.75, max_features=5000, min_df=1,\n",
      "        ngram_range=(1, 2), preprocessor=None, stop_words=None,\n",
      "        stri...y=None)), ('tfidf', TfidfTransformer(norm='l2', smooth_idf=True, sublinear_tf=False, use_idf=True))])),\n",
      "                                ('starting_verb', StartingVerbExtractor())],\n",
      " 'features__transformer_weights': {'starting_verb': 0.5, 'text_pipeline': 1},\n",
      " 'memory': None,\n",
      " 'steps': [('features',\n",
      "            FeatureUnion(n_jobs=None,\n",
      "       transformer_list=[('text_pipeline', Pipeline(memory=None,\n",
      "     steps=[('vect', CountVectorizer(analyzer='word', binary=False, decode_error='strict',\n",
      "        dtype=<class 'numpy.int64'>, encoding='utf-8', input='content',\n",
      "        lowercase=True, max_df=0.75, max_features=5000, min_df=1,\n",
      "        ngram... smooth_idf=True, sublinear_tf=False, use_idf=True))])), ('starting_verb', StartingVerbExtractor())],\n",
      "       transformer_weights={'text_pipeline': 1, 'starting_verb': 0.5})),\n",
      "           ('clf',\n",
      "            MultiOutputClassifier(estimator=RandomForestClassifier(bootstrap=True, class_weight=None, criterion='gini',\n",
      "            max_depth=None, max_features='auto', max_leaf_nodes=None,\n",
      "            min_impurity_decrease=0.0, min_impurity_split=None,\n",
      "            min_samples_leaf=1, min_samples_split=4,\n",
      "            min_weight_fraction_leaf=0.0, n_estimators=200, n_jobs=None,\n",
      "            oob_score=False, random_state=None, verbose=0,\n",
      "            warm_start=False),\n",
      "           n_jobs=None))]}\n"
     ]
    }
   ],
   "source": [
    "# Print best estimator's all parameters\n",
    "pprint(cv.best_estimator_.get_params())"
   ]
  },
  {
   "cell_type": "code",
   "execution_count": 108,
   "metadata": {},
   "outputs": [
    {
     "data": {
      "text/plain": [
       "0.9362539803390713"
      ]
     },
     "execution_count": 108,
     "metadata": {},
     "output_type": "execute_result"
    }
   ],
   "source": [
    "# Print the score(as per custom scorer) on the training set after the best estimator selected has been refit \n",
    "cv.best_score_"
   ]
  },
  {
   "cell_type": "code",
   "execution_count": 111,
   "metadata": {},
   "outputs": [
    {
     "data": {
      "text/plain": [
       "{'clf__estimator__min_samples_split': 4,\n",
       " 'clf__estimator__n_estimators': 200,\n",
       " 'features__text_pipeline__tfidf__use_idf': True,\n",
       " 'features__text_pipeline__vect__max_df': 0.75,\n",
       " 'features__text_pipeline__vect__max_features': 5000,\n",
       " 'features__text_pipeline__vect__ngram_range': (1, 2),\n",
       " 'features__transformer_weights': {'text_pipeline': 1, 'starting_verb': 0.5}}"
      ]
     },
     "execution_count": 111,
     "metadata": {},
     "output_type": "execute_result"
    }
   ],
   "source": [
    "# Print best estimator parameters selected from the parameter's grid with their values \n",
    "cv.best_params_"
   ]
  },
  {
   "cell_type": "code",
   "execution_count": 113,
   "metadata": {},
   "outputs": [
    {
     "data": {
      "text/plain": [
       "make_scorer(multi_label_fscore)"
      ]
     },
     "execution_count": 113,
     "metadata": {},
     "output_type": "execute_result"
    }
   ],
   "source": [
    "# Print scorer used to select the best parameters for the GridSearchCV object\n",
    "cv.scorer_"
   ]
  },
  {
   "cell_type": "code",
   "execution_count": 115,
   "metadata": {},
   "outputs": [
    {
     "data": {
      "text/plain": [
       "3"
      ]
     },
     "execution_count": 115,
     "metadata": {},
     "output_type": "execute_result"
    }
   ],
   "source": [
    "# Print the number of cross-validation splits (folds/iterations) used while fitting the training set\n",
    "cv.n_splits_"
   ]
  },
  {
   "cell_type": "code",
   "execution_count": null,
   "metadata": {},
   "outputs": [],
   "source": []
  },
  {
   "cell_type": "code",
   "execution_count": null,
   "metadata": {},
   "outputs": [],
   "source": []
  },
  {
   "cell_type": "code",
   "execution_count": null,
   "metadata": {},
   "outputs": [],
   "source": []
  },
  {
   "cell_type": "code",
   "execution_count": null,
   "metadata": {},
   "outputs": [],
   "source": []
  },
  {
   "cell_type": "code",
   "execution_count": null,
   "metadata": {},
   "outputs": [],
   "source": []
  },
  {
   "cell_type": "code",
   "execution_count": null,
   "metadata": {},
   "outputs": [],
   "source": []
  },
  {
   "cell_type": "code",
   "execution_count": null,
   "metadata": {},
   "outputs": [],
   "source": []
  },
  {
   "cell_type": "markdown",
   "metadata": {},
   "source": [
    "### 7. Test your model\n",
    "Show the accuracy, precision, and recall of the tuned model.  \n",
    "\n",
    "Since this project focuses on code quality, process, and  pipelines, there is no minimum performance metric needed to pass. However, make sure to fine tune your models for accuracy, precision and recall to make your project stand out - especially for your portfolio!"
   ]
  },
  {
   "cell_type": "code",
   "execution_count": null,
   "metadata": {},
   "outputs": [],
   "source": []
  },
  {
   "cell_type": "markdown",
   "metadata": {},
   "source": [
    "### 8. Try improving your model further. Here are a few ideas:\n",
    "* try other machine learning algorithms\n",
    "* add other features besides the TF-IDF"
   ]
  },
  {
   "cell_type": "code",
   "execution_count": null,
   "metadata": {},
   "outputs": [],
   "source": []
  },
  {
   "cell_type": "markdown",
   "metadata": {},
   "source": [
    "### 9. Export your model as a pickle file"
   ]
  },
  {
   "cell_type": "code",
   "execution_count": null,
   "metadata": {},
   "outputs": [],
   "source": []
  },
  {
   "cell_type": "markdown",
   "metadata": {},
   "source": [
    "### 10. Use this notebook to complete `train.py`\n",
    "Use the template file attached in the Resources folder to write a script that runs the steps above to create a database and export a model based on a new dataset specified by the user."
   ]
  },
  {
   "cell_type": "code",
   "execution_count": null,
   "metadata": {},
   "outputs": [],
   "source": []
  }
 ],
 "metadata": {
  "kernelspec": {
   "display_name": "Python 3",
   "language": "python",
   "name": "python3"
  },
  "language_info": {
   "codemirror_mode": {
    "name": "ipython",
    "version": 3
   },
   "file_extension": ".py",
   "mimetype": "text/x-python",
   "name": "python",
   "nbconvert_exporter": "python",
   "pygments_lexer": "ipython3",
   "version": "3.6.8"
  }
 },
 "nbformat": 4,
 "nbformat_minor": 2
}
