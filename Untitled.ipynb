{
 "cells": [
  {
   "cell_type": "code",
   "execution_count": null,
   "metadata": {},
   "outputs": [],
   "source": [
    "# Report the f1 score, precision and recall for each output category of the dataset by iterating through the columns\n",
    "# and calling sklearn's classification_report on each column\n",
    "for column in Y_test.columns:\n",
    "    print('------------------------------------------------------\\n')\n",
    "    print('CATEGORY: {}\\n'.format(column))\n",
    "    print(classification_report(np.array(Y_test[column]),\\\n",
    "                                np.array(pd.DataFrame(Y_pred, columns=Y_test.columns)[column])))"
   ]
  },
  {
   "cell_type": "code",
   "execution_count": null,
   "metadata": {},
   "outputs": [],
   "source": [
    "# Define function to create dataframe containing only weighted avg(precision, recall & f1-score) for each of the label\n",
    "# from the classification report dict\n",
    "\n",
    "def weighted_avg_metric(clf_report_dict):\n",
    "    \"\"\"Create dataframe containing only weighted avg(precision, recall & f1-score) for each of the label\n",
    "    from the classification report dict\n",
    "    \n",
    "    Args:\n",
    "    classification report: dict, dict containing classification report for each of the label\n",
    "       \n",
    "    Returns:\n",
    "    weighted avg metrics: dataframe, dataframe containing weighted avg metrics(precision, recall & f1-score)\n",
    "    for each of the label\n",
    "    \"\"\"\n",
    "        \n",
    "    clf_idx = []\n",
    "    clf_metric_precision = []\n",
    "    clf_metric_recall = []\n",
    "    clf_metric_f1_score = []\n",
    "    metric_dict = {}\n",
    "    for key,value in clf_report_dict.items():\n",
    "        clf_idx.append(key)\n",
    "        clf_metric_precision.append(value['weighted avg']['precision'])\n",
    "        clf_metric_recall.append(value['weighted avg']['recall'])\n",
    "        clf_metric_f1_score.append(value['weighted avg']['f1-score'])\n",
    "\n",
    "    metric_dict['precision'] = clf_metric_precision\n",
    "    metric_dict['recall'] = clf_metric_recall\n",
    "    metric_dict['f1_score'] = clf_metric_f1_score\n",
    "\n",
    "    clf_report_df = pd.DataFrame(metric_dict, index=clf_idx)\n",
    "        \n",
    "    return clf_report_df"
   ]
  },
  {
   "cell_type": "code",
   "execution_count": null,
   "metadata": {},
   "outputs": [],
   "source": [
    "weighted_avg_metric(clf_report_dict)"
   ]
  },
  {
   "cell_type": "code",
   "execution_count": null,
   "metadata": {},
   "outputs": [],
   "source": []
  },
  {
   "cell_type": "code",
   "execution_count": null,
   "metadata": {},
   "outputs": [],
   "source": []
  },
  {
   "cell_type": "code",
   "execution_count": null,
   "metadata": {},
   "outputs": [],
   "source": []
  },
  {
   "cell_type": "code",
   "execution_count": null,
   "metadata": {},
   "outputs": [],
   "source": [
    "# Predict categories from test set using tuned pipeline\n",
    "start_datetime = datetime.datetime.now().replace(microsecond=0)\n",
    "Y_pred = cv.predict(X_test)\n",
    "print(\"--- Predicting time: %s ---\" % (datetime.datetime.now().replace(microsecond=0) - start_datetime))"
   ]
  },
  {
   "cell_type": "code",
   "execution_count": null,
   "metadata": {},
   "outputs": [],
   "source": [
    "# Print accuracy of tuned pipeline for each of individual category \n",
    "accuracy = (Y_pred == Y_test).mean()\n",
    "accuracy"
   ]
  },
  {
   "cell_type": "code",
   "execution_count": null,
   "metadata": {},
   "outputs": [],
   "source": [
    "# Print overall accuracy of tuned pipeline\n",
    "overall_accuracy = (Y_pred == Y_test).mean().mean()\n",
    "print('Overall accuracy of basic pipeline is: {}%'.format(round(overall_accuracy*100, 2)))"
   ]
  },
  {
   "cell_type": "code",
   "execution_count": null,
   "metadata": {},
   "outputs": [],
   "source": [
    "# Print overall f_score of tuned pipeline\n",
    "multi_f_gmean = multi_label_fscore(Y_test,Y_pred, beta = 1)\n",
    "print('Overall F_beta_score is: {0:.2f}%'.format(multi_f_gmean*100))"
   ]
  },
  {
   "cell_type": "code",
   "execution_count": null,
   "metadata": {},
   "outputs": [],
   "source": []
  },
  {
   "cell_type": "code",
   "execution_count": null,
   "metadata": {},
   "outputs": [],
   "source": []
  }
 ],
 "metadata": {
  "kernelspec": {
   "display_name": "Python [conda env:DSND]",
   "language": "python",
   "name": "conda-env-DSND-py"
  },
  "language_info": {
   "codemirror_mode": {
    "name": "ipython",
    "version": 3
   },
   "file_extension": ".py",
   "mimetype": "text/x-python",
   "name": "python",
   "nbconvert_exporter": "python",
   "pygments_lexer": "ipython3",
   "version": "3.6.8"
  }
 },
 "nbformat": 4,
 "nbformat_minor": 2
}
